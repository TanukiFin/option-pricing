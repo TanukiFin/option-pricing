{
 "cells": [
  {
   "cell_type": "code",
   "execution_count": 289,
   "metadata": {
    "ExecuteTime": {
     "end_time": "2023-06-20T11:56:09.189492Z",
     "start_time": "2023-06-20T11:56:09.184620Z"
    },
    "id": "Qbtl6YnVWZyl"
   },
   "outputs": [],
   "source": [
    "import numpy as np\n",
    "import pandas as pd\n",
    "import scipy\n",
    "from scipy.stats import norm"
   ]
  },
  {
   "attachments": {},
   "cell_type": "markdown",
   "metadata": {
    "id": "KuCMAHR4WdFA"
   },
   "source": [
    "**Geometric Brownian Motion (GBM)**"
   ]
  },
  {
   "cell_type": "code",
   "execution_count": 45,
   "metadata": {
    "ExecuteTime": {
     "end_time": "2023-06-20T08:10:33.664089Z",
     "start_time": "2023-06-20T08:10:33.654306Z"
    },
    "code_folding": [],
    "id": "zPGZvD-HWcZf"
   },
   "outputs": [],
   "source": [
    "class GeometricBrownianMotion:\n",
    "    \"\"\"\n",
    "    input: \n",
    "        * nSteps : 步數, the number of samples per path\n",
    "        * nPaths : 路徑數, the number of paths to generate\n",
    "        * mu : 平均值, the drift\n",
    "        * S0 : 期初股價, the initial stock price of the sample path\n",
    "        * sigma : 標準差, the standard deviation\n",
    "        * T : 時間\n",
    "    output:\n",
    "        * Rt : array\n",
    "        * lnSt : array\n",
    "        * St : 每期股價, array\n",
    "        * df : 每期股價, dataframe\n",
    "    \"\"\"\n",
    "    def __init__(self, nSteps=100, nPaths=10000, mu=0.05, S0=100, sigma=0.3, T=1):\n",
    "        dt = T/nSteps    # 計算時間步長\n",
    "        Rt = (mu - sigma ** 2 / 2) * dt + sigma * np.random.normal(0, np.sqrt(dt), size=(nSteps, nPaths))    # 計算每一期的增量/漲跌幅\n",
    "        St = np.exp( Rt )    # 計算每個時間步的股價\n",
    "        St = np.vstack([np.ones(nPaths), St])    # 將初始股價添加到St的開始處\n",
    "        St = S0 * St.cumprod(axis=0)    # 計算股價的累積乘積\n",
    "        time = np.linspace(0, T, nSteps+1)    # 生成時間值\n",
    "        \n",
    "        self.Rt = np.vstack([np.zeros(nPaths), Rt])\n",
    "        self.lnSt = (1+self.Rt).cumprod(axis=0)\n",
    "        self.St = St\n",
    "        self.df = pd.DataFrame(St, index=time)"
   ]
  },
  {
   "cell_type": "code",
   "execution_count": 76,
   "metadata": {
    "ExecuteTime": {
     "end_time": "2023-06-20T09:02:44.314281Z",
     "start_time": "2023-06-20T09:02:44.258792Z"
    },
    "code_folding": []
   },
   "outputs": [],
   "source": [
    "class call:\n",
    "    def __init__(self, S0, K, r, q, sigma, T):\n",
    "        d1 = ( np.log(S0/K) + ( r-q + sigma**2 / 2 ) * T ) / (sigma * np.sqrt(T))\n",
    "        d2 = d1 - sigma * np.sqrt(T)\n",
    "        ert = np.exp(-r * T)\n",
    "        eqt = np.exp(-q * T)\n",
    "        self.price = S0 * np.exp(-q * T) * norm.cdf(d1) - K * ert * norm.cdf(d2)\n",
    "        self.delta = norm.cdf(d1) * eqt\n",
    "        self.gamma = norm.pdf(d1) / (S0 * sigma * np.sqrt(T)) * eqt\n",
    "        self.vega = S0 * norm.pdf(d1) * np.sqrt(T) * eqt\n",
    "        self.theta = (-S0 * norm.pdf(d1) * sigma * ert) / (2 * np.sqrt(T)) - r * K * ert * norm.cdf(d2) \\\n",
    "                + q * S0 *norm.cdf(d1) * eqt\n",
    "        self.rho = 0 \n",
    "        self.greek = np.array([self.delta,self.gamma,self.vega,self.theta])\n",
    "        self.S0 = S0\n",
    "        self.K = K\n",
    "        self.r = r\n",
    "        self.q = q\n",
    "        self.sigma = sigma\n",
    "        self.T = T\n",
    "call(S0=100, K=80, r=0.1, q=0.03, sigma=0.3, T=1).price\n",
    "class put:\n",
    "    def __init__(self, S0, K, r, q, sigma, T):\n",
    "        d1 = ( np.log(S0/K) + ( r-q + sigma**2 / 2 ) * T ) / (sigma * np.sqrt(T))\n",
    "        d2 = d1 - sigma * np.sqrt(T)\n",
    "        ert = np.exp(-r * T)\n",
    "        eqt = np.exp(-q * T)\n",
    "        self.price =  K * ert * norm.cdf(-d2) - S0 * np.exp(-q * T) * norm.cdf(-d1)\n",
    "        self.delta = norm.cdf(d1) * eqt - 1\n",
    "        self.gamma = norm.pdf(d1) / (S0 * sigma * np.sqrt(T)) * eqt\n",
    "        self.vega = S0 * norm.pdf(d1) * np.sqrt(T) * eqt\n",
    "        self.theta = (-S0 * norm.pdf(d1) * sigma * ert) / (2 * np.sqrt(T)) + r * K * ert * norm.cdf(-d2) \\\n",
    "                - q * S0 *norm.cdf(-d1) * eqt\n",
    "        self.rho = 0 \n",
    "        self.greek = np.array([self.delta,self.gamma,self.vega,self.theta])\n",
    "        self.S0 = S0\n",
    "        self.K = K\n",
    "        self.r = r\n",
    "        self.q = q\n",
    "        self.sigma = sigma\n",
    "        self.T = T"
   ]
  },
  {
   "attachments": {},
   "cell_type": "markdown",
   "metadata": {
    "id": "d6NA_FszWcGN"
   },
   "source": [
    "# **1. Holder-Extendible Call**\n",
    "Consider an extendible call with initial time to maturity six months, extendible for an additional three months. The stock price is 100, the initial strike price is 100, the extended strike price is 105, the riskfree interest rate is 8% per year, the volatility is 25% per year, and the extension fee is 1. (9.4029)"
   ]
  },
  {
   "cell_type": "code",
   "execution_count": 288,
   "metadata": {
    "ExecuteTime": {
     "end_time": "2023-06-20T11:50:15.513457Z",
     "start_time": "2023-06-20T11:50:14.763001Z"
    },
    "colab": {
     "base_uri": "https://localhost:8080/"
    },
    "id": "YFiLCUVeGewM",
    "outputId": "e0ecf141-34e8-45b6-cd4c-abdfb8b0f2b1"
   },
   "outputs": [
    {
     "name": "stdout",
     "output_type": "stream",
     "text": [
      "option_price:  10.021069839473634\n",
      "CI:  [ 9.77199534 10.27014434]\n"
     ]
    }
   ],
   "source": [
    "S0 = 100\n",
    "K1 = 100\n",
    "K2 = 105\n",
    "r = 0.08\n",
    "q = 0\n",
    "sigma = 0.25\n",
    "extension_fee = 1 #展期費\n",
    "t1 = 6/12\n",
    "t2 = 3/12\n",
    "nSteps = 900\n",
    "nPaths = 10000\n",
    "\n",
    "gbm = GeometricBrownianMotion(nSteps, nPaths, r-q, S0, sigma, t1+t2) # GBM產生9個月的樣本路徑\n",
    "callprice = call(gbm.df.loc[t1], K2, r, q, sigma, t2).price # 用BS公式計算在t=6個月時，每個路徑當下的選擇權價值(3m到期，K2=105)\n",
    "\n",
    "payoff1 = np.maximum(gbm.df.loc[t1] - K1, 0)      # 計算假設所有路徑都在t=6時，用K1=100履約的payoff\n",
    "payoff2 = np.maximum(gbm.df.loc[t1+t2] - K2, 0)   # 計算假設所有路徑都在t=9時，用K2=105履約的payoff\n",
    "\n",
    "# 在t=6時，若選擇權價值(3m到期，K2=105)-展期成本($1)大於立即履約的payoff1，則展期\n",
    "extFlag = ( callprice-1 > payoff1 ) # True=展期，False=不展期\n",
    "\n",
    "# 所有路徑的payoff，折現至t=0\n",
    "#   在t=6時，不展期的payoff1\n",
    "#   在t=9時，展期的payoff2、在t=6時支付的展期費 \n",
    "payoff = payoff1 * ~extFlag * np.exp(r*-t1)  \\\n",
    "        + payoff2 * extFlag * np.exp(r*-(t1+t2))  + extension_fee * extFlag * np.exp(r*t1) \n",
    "\n",
    "option_price = np.mean( payoff )\n",
    "payoff_sd = np.sqrt( sum((payoff - option_price)**2)/(nPaths-1) ) \n",
    "SE = payoff_sd / np.sqrt(nPaths)\n",
    "CI = option_price + np.array([-1.96, 1.96]) * SE\n",
    "print(\"option_price: \", option_price)\n",
    "print(\"CI: \", CI)"
   ]
  },
  {
   "attachments": {},
   "cell_type": "markdown",
   "metadata": {
    "id": "R3X9LdZLqutB"
   },
   "source": [
    "# **2. Writer-Extendible Call**\n",
    "Consider a writer-extendible call on a stock with original time to maturity six months, that will be extended three months if the option is out-of-the-money at original maturity time. The stock price is 80, and the\n",
    "initial strike price is 90. If the option is extended, the strike price is adjusted to 82. The risk-free interest rate is 10%,\n",
    "and the volatility is 30%. (6.8238)"
   ]
  },
  {
   "cell_type": "code",
   "execution_count": 47,
   "metadata": {
    "ExecuteTime": {
     "end_time": "2023-06-20T08:10:49.077129Z",
     "start_time": "2023-06-20T08:10:48.314201Z"
    },
    "colab": {
     "base_uri": "https://localhost:8080/"
    },
    "id": "ZI21TFmlu_Ry",
    "outputId": "bfbadf19-ca3f-4a26-8bf5-b0ce1c8af793"
   },
   "outputs": [
    {
     "name": "stdout",
     "output_type": "stream",
     "text": [
      "6.882832185812834\n",
      "[6.68103835 7.08462602]\n"
     ]
    }
   ],
   "source": [
    "S0 = 80\n",
    "K1 = 90\n",
    "K2 = 82\n",
    "r = 0.1\n",
    "q = 0\n",
    "sigma = 0.3\n",
    "t1 = 6/12\n",
    "t2 = 3/12\n",
    "nSteps = 900\n",
    "nPaths = 10000\n",
    "gbm = GeometricBrownianMotion(nSteps, nPaths, r-q, S0, sigma, t1+t2)\n",
    "\n",
    "payoff1 = np.maximum(gbm.df.loc[t1] - K1, 0)\n",
    "payoff2 = np.maximum(gbm.df.loc[t1+t2] - K2, 0)\n",
    "extFlag = gbm.df.loc[t1] < K1   # True=價外會展期\n",
    "\n",
    "payoff = payoff1 * ~extFlag * np.exp(r*-t1) + payoff2 * extFlag * np.exp(r*-(t1+t2))\n",
    "option_price = payoff.mean()\n",
    "\n",
    "payoff_sd = np.sqrt( sum((payoff - option_price)**2)/(nPaths-1) ) \n",
    "SE = payoff_sd / np.sqrt(nPaths)\n",
    "CI = option_price + np.array([-1.96, 1.96]) * SE\n",
    "print(option_price)\n",
    "print(CI)"
   ]
  },
  {
   "attachments": {},
   "cell_type": "markdown",
   "metadata": {
    "id": "A86Lx14gquZl"
   },
   "source": [
    "# **3. Forward Start Call**\n",
    "Consider an employee who receives a call option with forward start three months from today. The option starts 10% out-of-the-money, time to maturity is one year from today, the stock price is 60, the risk-free interest rate is 8%, the continuous dividend yield is 4%, and the expected volatility of the stock is 30%. (4.4064)"
   ]
  },
  {
   "cell_type": "code",
   "execution_count": 280,
   "metadata": {
    "ExecuteTime": {
     "end_time": "2023-06-20T11:42:37.971129Z",
     "start_time": "2023-06-20T11:42:36.997746Z"
    },
    "colab": {
     "base_uri": "https://localhost:8080/"
    },
    "id": "h1L0WMF__cag",
    "outputId": "da0735d7-f151-4917-ae26-e3c84420c3c2"
   },
   "outputs": [
    {
     "name": "stdout",
     "output_type": "stream",
     "text": [
      "4.406956237382712\n",
      "[4.22793412 4.58597835]\n"
     ]
    }
   ],
   "source": [
    "S0 = 60\n",
    "r = 0.08\n",
    "q = 0.04\n",
    "sigma = 0.3\n",
    "t1 = 3/12\n",
    "T = 1\n",
    "nSteps = 1200\n",
    "nPaths = 10000\n",
    "\n",
    "gbm = GeometricBrownianMotion(nSteps, nPaths, r-q, S0, sigma, T)\n",
    "strike = np.array(gbm.df.loc[t1] * 1.1)\n",
    "\n",
    "payoff = np.maximum(gbm.St[-1] - strike, 0) * np.exp(-r * (T))\n",
    "option_price = payoff.mean()\n",
    "\n",
    "payoff_sd = np.sqrt( sum((payoff - option_price)**2)/(nPaths-1) ) \n",
    "SE = payoff_sd / np.sqrt(nPaths)\n",
    "CI = option_price + np.array([-1.96, 1.96]) * SE\n",
    "print(option_price)\n",
    "print(CI)"
   ]
  },
  {
   "attachments": {},
   "cell_type": "markdown",
   "metadata": {
    "id": "FctZS3sfYDFu"
   },
   "source": [
    "# **4. Asian Put**\n",
    "\n",
    "Consider an Asian currency put option with a time to expiration of six months. The spot price is 6.80, the strike is 6.90, the domestic risk-free interest rate is 7% per year, the foreign interest rate is 9% per year, and the volatility of the spot rate is 14%. (0.2237)"
   ]
  },
  {
   "cell_type": "code",
   "execution_count": 285,
   "metadata": {
    "ExecuteTime": {
     "end_time": "2023-06-20T11:45:17.537086Z",
     "start_time": "2023-06-20T11:45:08.469049Z"
    }
   },
   "outputs": [
    {
     "name": "stdout",
     "output_type": "stream",
     "text": [
      "0.22317286776948003\n",
      "[0.22161538 0.22473035]\n"
     ]
    }
   ],
   "source": [
    "S0 = 6.8\n",
    "K = 6.9\n",
    "r = 0.07\n",
    "q = 0.09\n",
    "sigma = 0.14\n",
    "T = 6/12\n",
    "\n",
    "nSteps = 1000\n",
    "nPaths = 10000\n",
    "\n",
    "gbm = GeometricBrownianMotion(nSteps, nPaths, r-q, S0, sigma, T)\n",
    "Stmean = gbm.St.mean(axis=0) # 每條路徑上，過去6個月的價格平均\n",
    "\n",
    "payoff = np.maximum(K - Stmean, 0) * np.exp(-r*T)\n",
    "option_price = payoff.mean()\n",
    "\n",
    "payoff_sd = np.sqrt( sum((payoff - option_price)**2)/(nPaths-1) ) \n",
    "SE = payoff_sd / np.sqrt(nPaths)\n",
    "CI = option_price + np.array([-1.96, 1.96]) * SE\n",
    "print(option_price)\n",
    "print(CI)"
   ]
  },
  {
   "attachments": {},
   "cell_type": "markdown",
   "metadata": {
    "id": "Z4DLamQpwG7y"
   },
   "source": [
    "# **5. Chooser Call&Put**\n",
    "Consider a complex chooser option that gives the holder the right to choose whether the option is to be a\n",
    "call with six months to expiration and strike price 55, or a put with seven months to expiration and strike price 48. The\n",
    "time to choose between a put or call is in three months, the underlying stock price is 50, the risk-free interest rate per\n",
    "year is 10%, the dividend yield is 5% per year, and the volatility per year is 35%. (6.0508)"
   ]
  },
  {
   "cell_type": "code",
   "execution_count": 84,
   "metadata": {
    "ExecuteTime": {
     "end_time": "2023-06-20T09:33:12.534403Z",
     "start_time": "2023-06-20T09:33:11.836953Z"
    },
    "colab": {
     "base_uri": "https://localhost:8080/"
    },
    "id": "VzDSmCxX89iV",
    "outputId": "e22f828b-5d9a-49ae-8c73-106599c2a75f"
   },
   "outputs": [
    {
     "name": "stdout",
     "output_type": "stream",
     "text": [
      "6.0713875265698745\n",
      "[5.92060469 6.22217036]\n"
     ]
    }
   ],
   "source": [
    "S0 = 50\n",
    "K1 = 55\n",
    "K2 = 48\n",
    "r = 0.1\n",
    "q = 0.05\n",
    "sigma = 0.35\n",
    "t1 = 3/12\n",
    "T1 = 6/12\n",
    "T2 = 7/12\n",
    "\n",
    "nSteps = 700\n",
    "nPaths = 10000\n",
    "\n",
    "gbm = GeometricBrownianMotion(nSteps, nPaths, r-q, S0, sigma, T2)\n",
    "gbm.df.index = np.round(gbm.df.index, 4)\n",
    "\n",
    "callprice = call(gbm.df.loc[t1], K1, r, q, sigma, T1-t1).price\n",
    "putprice = put(gbm.df.loc[t1], K2, r, q, sigma, T2-t1).price\n",
    "# 在t=3m時，若call>put，則選擇call=True\n",
    "chooseCall = callprice > putprice\n",
    "\n",
    "callPayoff = np.maximum(gbm.df.loc[round(T1,4)] - K1, 0)\n",
    "putPayoff = np.maximum(K2 - gbm.df.loc[round(T2,4)], 0)\n",
    "payoff = callPayoff * chooseCall * np.exp(-r*T1) + putPayoff * ~chooseCall * np.exp(-r*T2)\n",
    "option_price = payoff.mean()\n",
    "\n",
    "payoff_sd = np.sqrt( sum((payoff - option_price)**2)/(nPaths-1) ) \n",
    "SE = payoff_sd / np.sqrt(nPaths)\n",
    "CI = option_price + np.array([-1.96, 1.96]) * SE\n",
    "print(option_price)\n",
    "print(CI)"
   ]
  },
  {
   "attachments": {},
   "cell_type": "markdown",
   "metadata": {
    "id": "zBIVuVhNNNYg"
   },
   "source": [
    "# **6. Lookback Call**\n",
    "(Lookback) Consider a lookback call option with six months left to expiration. Assume it gives the right to buy the\n",
    "underlying stock index at the lowest price recorded during the life of the option and that the minimum stock index price\n",
    "observed so far is 100, the stock price is 120, the risk-free interest rate is 10%, the dividend yield is 6%, and the volatility\n",
    "is 30%. (25.3533)"
   ]
  },
  {
   "cell_type": "code",
   "execution_count": 85,
   "metadata": {
    "ExecuteTime": {
     "end_time": "2023-06-20T09:37:38.914939Z",
     "start_time": "2023-06-20T09:37:37.893213Z"
    }
   },
   "outputs": [
    {
     "name": "stdout",
     "output_type": "stream",
     "text": [
      "25.141815060651705\n",
      "[24.72965813 25.55397199]\n"
     ]
    }
   ],
   "source": [
    "S0 = 120\n",
    "K = 100\n",
    "r = 0.1\n",
    "q = 0.06\n",
    "sigma = 0.3\n",
    "T = 6/12\n",
    "\n",
    "nSteps = 1000\n",
    "nPaths = 10000\n",
    "\n",
    "gbm = GeometricBrownianMotion(nSteps, nPaths, r-q, S0, sigma, T)\n",
    "Stmin = gbm.St.min(axis=0) # 每條路徑上，過去6個月的價格最低點\n",
    "lower = K > Stmin  # 最低點低於100，True=用最低點當履約價\n",
    "\n",
    "payoff = np.maximum( gbm.St[-1] - ( Stmin * lower + K * ~lower ), 0 ) * np.exp(-r*T) \n",
    "option_price = payoff.mean()\n",
    "\n",
    "payoff_sd = np.sqrt( sum((payoff - option_price)**2)/(nPaths-1) ) \n",
    "SE = payoff_sd / np.sqrt(nPaths)\n",
    "CI = option_price + np.array([-1.96, 1.96]) * SE\n",
    "print(option_price)\n",
    "print(CI)"
   ]
  },
  {
   "attachments": {},
   "cell_type": "markdown",
   "metadata": {
    "id": "72SLMk8lwRgG"
   },
   "source": [
    "# **7. Compound Call**\n",
    "Consider a put-on-call option that gives the option holder the right to sell a call option for 50, three\n",
    "months from today. The strike on the underlying call option is 520, the time to maturity on the call is six months from\n",
    "today, the price on the underlying stock index is 500, the risk-free interest rate is 8%, and the stock index pays dividends\n",
    "at a rate of 3% annually and has a volatility of 35%. (21.1965)"
   ]
  },
  {
   "cell_type": "code",
   "execution_count": 87,
   "metadata": {
    "ExecuteTime": {
     "end_time": "2023-06-20T09:44:08.434936Z",
     "start_time": "2023-06-20T09:44:07.595179Z"
    },
    "colab": {
     "base_uri": "https://localhost:8080/"
    },
    "id": "AorHAAXtXIwe",
    "outputId": "0e92d663-656e-40d8-fcaa-b19c1049da62"
   },
   "outputs": [
    {
     "name": "stdout",
     "output_type": "stream",
     "text": [
      "21.07136708189534\n",
      "[20.70475785 21.43797632]\n"
     ]
    }
   ],
   "source": [
    "steps = 100\n",
    "S0 = 500\n",
    "K1 = 50      # compound put strike\n",
    "K2 = 520     # call strike\n",
    "r = 0.08\n",
    "q = 0.03\n",
    "sigma = 0.35\n",
    "T1 = 3/12\n",
    "T2 = 6/12\n",
    "\n",
    "nSteps = 1000\n",
    "nPaths = 10000\n",
    "\n",
    "gbm = GeometricBrownianMotion(nSteps, nPaths, r-q, S0, sigma, T1)\n",
    "callprice = call(gbm.St[-1], K2, r, q, sigma, T2-T1).price # t=3m時，underlying call的價值(剩餘3m到期)\n",
    "payoff = np.maximum(K1 - callprice, 0) *  np.exp(-r*T1)\n",
    "option_price = payoff.mean()\n",
    "\n",
    "payoff_sd = np.sqrt( sum((payoff - option_price)**2)/(nPaths-1) ) \n",
    "SE = payoff_sd / np.sqrt(nPaths)\n",
    "CI = option_price + np.array([-1.96, 1.96]) * SE\n",
    "print(option_price)\n",
    "print(CI)"
   ]
  },
  {
   "attachments": {},
   "cell_type": "markdown",
   "metadata": {
    "id": "EPvo7I4qwX6a"
   },
   "source": [
    "# **8. Look-Barrier Call**\n",
    "Look-barrier options can be regarded as a combination of a partial-time barrier option and a forward starting **fixed-strike lookback option**. Consider a look-barrier call option with one year to expiry. The option’s barrier monitoring period starts at the option’s starting date and ends at six months. If the barrier is not hit the barrier price 120 during the monitoring period, the fixed-strike lookback option will be initiated at the same time the barrier ceases to exist. The stock price and strike price are 100, the risk-free interest rate is 10%, and the expected volatility of the stock is 30%. (7.5509)"
   ]
  },
  {
   "cell_type": "code",
   "execution_count": 125,
   "metadata": {
    "ExecuteTime": {
     "end_time": "2023-06-20T10:22:50.092968Z",
     "start_time": "2023-06-20T10:22:48.388838Z"
    },
    "colab": {
     "base_uri": "https://localhost:8080/"
    },
    "id": "Zcd3jza18hw0",
    "outputId": "8d90171d-0815-40d8-d3d8-36fd7540a7b2"
   },
   "outputs": [
    {
     "name": "stdout",
     "output_type": "stream",
     "text": [
      "7.575070130498716\n",
      "[7.30105413 7.84908613]\n"
     ]
    }
   ],
   "source": [
    "S0 = 100\n",
    "barrier = 120\n",
    "K = 100\n",
    "r = 0.1\n",
    "q = 0\n",
    "sigma = 0.3\n",
    "t1 = 0.5\n",
    "T = 1\n",
    "\n",
    "nSteps = 1000\n",
    "nPaths = 10000\n",
    "\n",
    "gbm = GeometricBrownianMotion(nSteps, nPaths, r-q, S0, sigma, T)\n",
    "outFlag = (gbm.df.loc[:t1] > barrier).cumsum().loc[t1]  # 超過barrier累積\n",
    "initiate = (outFlag == 0)  # True=從未超過barrier\n",
    "Stmax = gbm.df.loc[t1:].max(axis=0)  # 每條路徑上，價格最高點\n",
    "\n",
    "payoff =  np.maximum( Stmax - K, 0 ) * np.exp(-r*(T)) * initiate  # 沒出局的\n",
    "option_price = payoff.mean()\n",
    "\n",
    "payoff_sd = np.sqrt( sum((payoff - option_price)**2)/(nPaths-1) ) \n",
    "SE = payoff_sd / np.sqrt(nPaths)\n",
    "CI = option_price + np.array([-1.96, 1.96]) * SE\n",
    "print(option_price)\n",
    "print(CI)"
   ]
  },
  {
   "attachments": {},
   "cell_type": "markdown",
   "metadata": {
    "id": "ihVNk2giwUbQ"
   },
   "source": [
    "\n",
    "# **9. Double-Barrier Binary**\n",
    "Consider a double-barrier knock-out binary option with a time to expiration of three months.The option pays off zero if the asset price touches the lower 80 or upper 120 barrier before expiration. The option pays\n",
    "off a cash amount 10 at maturity if the barriers are not hit during the lifetime of the option. The stock price is 100, the\n",
    "risk-free interest rate is 5%, the continuous dividend yield is 2%, and the expected volatility of the stock is 30%. (6.3272)"
   ]
  },
  {
   "cell_type": "code",
   "execution_count": 130,
   "metadata": {
    "ExecuteTime": {
     "end_time": "2023-06-20T10:29:04.396012Z",
     "start_time": "2023-06-20T10:29:03.361499Z"
    },
    "colab": {
     "base_uri": "https://localhost:8080/"
    },
    "id": "SEDcWSR0Fxiu",
    "outputId": "39c0e674-17b1-4ad7-ca03-f876a4346777"
   },
   "outputs": [
    {
     "name": "stdout",
     "output_type": "stream",
     "text": [
      "6.334324012368539\n",
      "[6.24148752 6.42716051]\n"
     ]
    }
   ],
   "source": [
    "S0 = 100\n",
    "barrier_upper = 120\n",
    "barrier_lower = 80\n",
    "cash = 10\n",
    "r = 0.05\n",
    "q = 0.02\n",
    "sigma = 0.3\n",
    "T = 3/12\n",
    "\n",
    "nSteps = 1000\n",
    "nPaths = 10000\n",
    "\n",
    "gbm = GeometricBrownianMotion(nSteps, nPaths, r-q, S0, sigma, T)\n",
    "outFlag = ( (gbm.df >= barrier_upper).cumsum() + (gbm.df <= barrier_lower).cumsum()) .loc[T]\n",
    "payoff = (outFlag == 0) * cash * np.exp(-r*T)\n",
    "option_price = payoff.mean()\n",
    "\n",
    "payoff_sd = np.sqrt( sum((payoff - option_price)**2)/(nPaths-1) ) \n",
    "SE = payoff_sd / np.sqrt(nPaths)\n",
    "CI = option_price + np.array([-1.96, 1.96]) * SE\n",
    "print(option_price)\n",
    "print(CI)"
   ]
  },
  {
   "attachments": {},
   "cell_type": "markdown",
   "metadata": {
    "id": "HG_vSKBxwVzB"
   },
   "source": [
    "\n",
    "# **10. Rainbow Put**\n",
    "Consider a put option that gives the holder the right to sell the maximum of stock index A and stock index B at a strike price of 98. Time to maturity is six months, stock index A pays a dividend yield of 6%, stock index B pays a dividend yield of 9%, the price of index A is currently 100, the price of index B is 105, the volatility of index A is 11%, the volatility of index B is 16%, the risk-free interest rate is 5%, and the correlation between the return on the two stock indexes is 0.63. (1.2181)"
   ]
  },
  {
   "cell_type": "code",
   "execution_count": 278,
   "metadata": {
    "ExecuteTime": {
     "end_time": "2023-06-20T11:39:33.243204Z",
     "start_time": "2023-06-20T11:39:33.182857Z"
    },
    "code_folding": [],
    "scrolled": true
   },
   "outputs": [
    {
     "name": "stdout",
     "output_type": "stream",
     "text": [
      "1.2106861147554306\n",
      "[1.19338631 1.22798592]\n"
     ]
    }
   ],
   "source": [
    "S0 = np.array([100, 105])\n",
    "K = np.array([98, 98])\n",
    "sigma = np.array([0.11, 0.16])\n",
    "r = 0.05\n",
    "q = np.array([0.06, 0.09])\n",
    "rho = 0.63\n",
    "T = 0.5\n",
    "nPaths = 100000\n",
    "\n",
    "Z = np.random.randn(nPaths, 2)\n",
    "Z[:, 1] = rho * Z[:, 0] + Z[:, 1] * np.sqrt(1 - rho ** 2)\n",
    "Rt = ((r-q) - 0.5 * sigma ** 2) * T + sigma * np.sqrt(T) * Z\n",
    "lnSt = np.log(S0) + Rt\n",
    "St = np.exp(lnSt)\n",
    "\n",
    "payoff = np.maximum(K - St, 0)  # 2個股票指數各自的payoff\n",
    "payoff = np.minimum(payoff[:, 0], payoff[:, 1]) * np.exp(-r*T)  # 比較低的股票指數的payoff\n",
    "option_price = payoff.mean()\n",
    "\n",
    "payoff_sd = np.sqrt( sum((payoff - option_price)**2)/(nPaths-1) ) \n",
    "SE = payoff_sd / np.sqrt(nPaths)\n",
    "CI = option_price + np.array([-1.96, 1.96]) * SE\n",
    "print(option_price)\n",
    "print(CI)"
   ]
  }
 ],
 "metadata": {
  "colab": {
   "provenance": [],
   "toc_visible": true
  },
  "kernelspec": {
   "display_name": "Python 3 (ipykernel)",
   "language": "python",
   "name": "python3"
  },
  "language_info": {
   "codemirror_mode": {
    "name": "ipython",
    "version": 3
   },
   "file_extension": ".py",
   "mimetype": "text/x-python",
   "name": "python",
   "nbconvert_exporter": "python",
   "pygments_lexer": "ipython3",
   "version": "3.9.13"
  },
  "toc": {
   "base_numbering": 1,
   "nav_menu": {},
   "number_sections": true,
   "sideBar": true,
   "skip_h1_title": false,
   "title_cell": "Table of Contents",
   "title_sidebar": "Contents",
   "toc_cell": false,
   "toc_position": {
    "height": "650px",
    "left": "23.9972px",
    "top": "180px",
    "width": "349.091px"
   },
   "toc_section_display": true,
   "toc_window_display": true
  }
 },
 "nbformat": 4,
 "nbformat_minor": 1
}
